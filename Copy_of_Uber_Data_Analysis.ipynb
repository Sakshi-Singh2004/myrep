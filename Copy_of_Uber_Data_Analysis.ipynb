{
  "nbformat": 4,
  "nbformat_minor": 5,
  "metadata": {
    "kernelspec": {
      "display_name": "Python 3",
      "language": "python",
      "name": "python3"
    },
    "language_info": {
      "codemirror_mode": {
        "name": "ipython",
        "version": 3
      },
      "file_extension": ".py",
      "mimetype": "text/x-python",
      "name": "python",
      "nbconvert_exporter": "python",
      "pygments_lexer": "ipython3",
      "version": "3.8.8"
    },
    "colab": {
      "provenance": [],
      "include_colab_link": true
    }
  },
  "cells": [
    {
      "cell_type": "markdown",
      "metadata": {
        "id": "view-in-github",
        "colab_type": "text"
      },
      "source": [
        "<a href=\"https://colab.research.google.com/github/Sakshi-Singh2004/myrep/blob/main/Copy_of_Uber_Data_Analysis.ipynb\" target=\"_parent\"><img src=\"https://colab.research.google.com/assets/colab-badge.svg\" alt=\"Open In Colab\"/></a>"
      ]
    },
    {
      "cell_type": "markdown",
      "metadata": {
        "id": "6eacc373"
      },
      "source": [
        "# What is Exploratory Data Analysis?\n",
        "The process of cleaning, transforming, manipulating data into useful information is called Data analysis. We can make future decisions using data analysis."
      ],
      "id": "6eacc373"
    },
    {
      "cell_type": "markdown",
      "metadata": {
        "id": "8dedb501"
      },
      "source": [
        "# Why Data Analysis?\n",
        "Companies have lots of data. To grow business , sometimes data analysis required. By analyzing data we get important topics on which we have to work on to make our business grow by taking necessary decision."
      ],
      "id": "8dedb501"
    },
    {
      "cell_type": "markdown",
      "metadata": {
        "id": "e8f169aa"
      },
      "source": [
        "# Project Goals\n",
        "- How long do people travel in Uber?\n",
        "- What Hour Do most of the people take uber?\n",
        "- What is the purpose of the trip?\n",
        "- Which day has the highest number of trips?\n",
        "- What are the number of trips each day?"
      ],
      "id": "e8f169aa"
    },
    {
      "cell_type": "markdown",
      "metadata": {
        "id": "NFYLgGhIJ0dy"
      },
      "source": [
        "## Download the dataset\n"
      ],
      "id": "NFYLgGhIJ0dy"
    },
    {
      "cell_type": "code",
      "metadata": {
        "id": "cwPgdJCLJ0HY",
        "colab": {
          "base_uri": "https://localhost:8080/"
        },
        "outputId": "49e2542a-e868-4f5c-e3e7-a814952c40fb"
      },
      "source": [
        "#  Shift + Enter\n",
        "!wget https://www.dropbox.com/s/i85qjzm0cjh3p4z/UberData.csv"
      ],
      "id": "cwPgdJCLJ0HY",
      "execution_count": 3,
      "outputs": [
        {
          "output_type": "stream",
          "name": "stdout",
          "text": [
            "--2023-06-12 13:11:55--  https://www.dropbox.com/s/i85qjzm0cjh3p4z/UberData.csv\n",
            "Resolving www.dropbox.com (www.dropbox.com)... 162.125.2.18, 2620:100:601d:18::a27d:512\n",
            "Connecting to www.dropbox.com (www.dropbox.com)|162.125.2.18|:443... connected.\n",
            "HTTP request sent, awaiting response... 302 Found\n",
            "Location: /s/raw/i85qjzm0cjh3p4z/UberData.csv [following]\n",
            "--2023-06-12 13:11:56--  https://www.dropbox.com/s/raw/i85qjzm0cjh3p4z/UberData.csv\n",
            "Reusing existing connection to www.dropbox.com:443.\n",
            "HTTP request sent, awaiting response... 302 Found\n",
            "Location: https://uca99059c51af87e0957eeb5bd59.dl.dropboxusercontent.com/cd/0/inline/B93_dzR08Z6RDQz9X2CN77SXVIKs0Ve7CgvrgFNJcEdb0fK-0DTjpr3msh05Zk4nxqx5RC18aDHLanVLw0H6eCbs7iWzQwzIKEU8lUAo7FGJaItQc9zuCbJlKfjEykPUdh1v46NjeaMUhyWi0C_k0g3j9NcPcsgfv2hydi8L1VcgxA/file# [following]\n",
            "--2023-06-12 13:11:56--  https://uca99059c51af87e0957eeb5bd59.dl.dropboxusercontent.com/cd/0/inline/B93_dzR08Z6RDQz9X2CN77SXVIKs0Ve7CgvrgFNJcEdb0fK-0DTjpr3msh05Zk4nxqx5RC18aDHLanVLw0H6eCbs7iWzQwzIKEU8lUAo7FGJaItQc9zuCbJlKfjEykPUdh1v46NjeaMUhyWi0C_k0g3j9NcPcsgfv2hydi8L1VcgxA/file\n",
            "Resolving uca99059c51af87e0957eeb5bd59.dl.dropboxusercontent.com (uca99059c51af87e0957eeb5bd59.dl.dropboxusercontent.com)... 162.125.5.15, 2620:100:601d:15::a27d:50f\n",
            "Connecting to uca99059c51af87e0957eeb5bd59.dl.dropboxusercontent.com (uca99059c51af87e0957eeb5bd59.dl.dropboxusercontent.com)|162.125.5.15|:443... connected.\n",
            "HTTP request sent, awaiting response... 200 OK\n",
            "Length: 86369 (84K) [text/plain]\n",
            "Saving to: ‘UberData.csv’\n",
            "\n",
            "UberData.csv        100%[===================>]  84.34K  --.-KB/s    in 0.04s   \n",
            "\n",
            "2023-06-12 13:11:56 (2.03 MB/s) - ‘UberData.csv’ saved [86369/86369]\n",
            "\n"
          ]
        }
      ]
    },
    {
      "cell_type": "markdown",
      "metadata": {
        "id": "940f6485"
      },
      "source": [
        "# Import Libraries"
      ],
      "id": "940f6485"
    },
    {
      "cell_type": "code",
      "metadata": {
        "id": "96e950e2"
      },
      "source": [
        "import pandas as pd\n",
        "import numpy as np\n",
        "\n",
        "import matplotlib.pyplot as plt\n",
        "import seaborn as sns\n",
        "\n",
        "import warnings\n",
        "warnings.filterwarnings('ignore')"
      ],
      "id": "96e950e2",
      "execution_count": 1,
      "outputs": []
    },
    {
      "cell_type": "code",
      "source": [
        "!wget "
      ],
      "metadata": {
        "id": "9ijrOfKet5Vf"
      },
      "id": "9ijrOfKet5Vf",
      "execution_count": null,
      "outputs": []
    },
    {
      "cell_type": "code",
      "metadata": {
        "id": "1a553291"
      },
      "source": [
        "data = pd.read_csv('UberData.csv')"
      ],
      "id": "1a553291",
      "execution_count": 4,
      "outputs": []
    },
    {
      "cell_type": "code",
      "metadata": {
        "id": "44c131ba"
      },
      "source": [
        "type(data)"
      ],
      "id": "44c131ba",
      "execution_count": null,
      "outputs": []
    },
    {
      "cell_type": "code",
      "metadata": {
        "id": "b90d9e78"
      },
      "source": [
        "data.shape"
      ],
      "id": "b90d9e78",
      "execution_count": null,
      "outputs": []
    },
    {
      "cell_type": "code",
      "metadata": {
        "id": "c3222ca4"
      },
      "source": [
        "data.columns"
      ],
      "id": "c3222ca4",
      "execution_count": null,
      "outputs": []
    },
    {
      "cell_type": "code",
      "metadata": {
        "id": "84534ee4"
      },
      "source": [
        "data.head(5)"
      ],
      "id": "84534ee4",
      "execution_count": null,
      "outputs": []
    },
    {
      "cell_type": "code",
      "metadata": {
        "id": "a634709c"
      },
      "source": [
        "# renaming the columns - removing the *\n",
        "columns = ['START_DATE', 'END_DATE', 'CATEGORY', 'START', 'STOP', 'MILES','PURPOSE']"
      ],
      "id": "a634709c",
      "execution_count": null,
      "outputs": []
    },
    {
      "cell_type": "code",
      "metadata": {
        "id": "5de92024"
      },
      "source": [
        "# updating the dataframe columns with the new columns.\n",
        "data.columns = columns"
      ],
      "id": "5de92024",
      "execution_count": null,
      "outputs": []
    },
    {
      "cell_type": "code",
      "metadata": {
        "id": "12f74905"
      },
      "source": [
        "data.head(n=5)"
      ],
      "id": "12f74905",
      "execution_count": null,
      "outputs": []
    },
    {
      "cell_type": "code",
      "metadata": {
        "id": "cf430932"
      },
      "source": [
        "data.tail(n=5)"
      ],
      "id": "cf430932",
      "execution_count": null,
      "outputs": []
    },
    {
      "cell_type": "code",
      "metadata": {
        "id": "42fd0e2d"
      },
      "source": [
        "# removing the last unnecassiry row\n",
        "data = data.drop(index = 1155)"
      ],
      "id": "42fd0e2d",
      "execution_count": null,
      "outputs": []
    },
    {
      "cell_type": "code",
      "metadata": {
        "id": "2aa8c049"
      },
      "source": [
        "data.shape"
      ],
      "id": "2aa8c049",
      "execution_count": null,
      "outputs": []
    },
    {
      "cell_type": "code",
      "metadata": {
        "id": "diOTi5EgpJ2S"
      },
      "source": [
        "data.tail()"
      ],
      "id": "diOTi5EgpJ2S",
      "execution_count": null,
      "outputs": []
    },
    {
      "cell_type": "markdown",
      "metadata": {
        "id": "aa1ef550"
      },
      "source": [
        "# Missing Values"
      ],
      "id": "aa1ef550"
    },
    {
      "cell_type": "code",
      "metadata": {
        "id": "26cf0c41"
      },
      "source": [
        "data.isnull().sum()"
      ],
      "id": "26cf0c41",
      "execution_count": null,
      "outputs": []
    },
    {
      "cell_type": "markdown",
      "metadata": {
        "id": "501a8666"
      },
      "source": [
        "**Handling missing**\n",
        "\n",
        "- Dropping rows\n",
        "- Drop column\n",
        "- Estimate (Approximate) -> Fill"
      ],
      "id": "501a8666"
    },
    {
      "cell_type": "code",
      "metadata": {
        "id": "e877ae3e"
      },
      "source": [
        "# data.dropna()"
      ],
      "id": "e877ae3e",
      "execution_count": null,
      "outputs": []
    },
    {
      "cell_type": "code",
      "metadata": {
        "id": "28e9050e"
      },
      "source": [
        "data = data.fillna(value='Other')"
      ],
      "id": "28e9050e",
      "execution_count": null,
      "outputs": []
    },
    {
      "cell_type": "code",
      "metadata": {
        "id": "8df13ec6"
      },
      "source": [
        "data.isnull().sum()"
      ],
      "id": "8df13ec6",
      "execution_count": null,
      "outputs": []
    },
    {
      "cell_type": "code",
      "metadata": {
        "id": "749f01bc"
      },
      "source": [],
      "id": "749f01bc",
      "execution_count": null,
      "outputs": []
    },
    {
      "cell_type": "code",
      "metadata": {
        "id": "ef0c13b7"
      },
      "source": [
        "data.head()"
      ],
      "id": "ef0c13b7",
      "execution_count": null,
      "outputs": []
    },
    {
      "cell_type": "markdown",
      "metadata": {
        "id": "033c3791"
      },
      "source": [
        "# Data Types"
      ],
      "id": "033c3791"
    },
    {
      "cell_type": "code",
      "metadata": {
        "id": "15f2c56b"
      },
      "source": [
        "data.dtypes"
      ],
      "id": "15f2c56b",
      "execution_count": null,
      "outputs": []
    },
    {
      "cell_type": "code",
      "metadata": {
        "id": "055d6299"
      },
      "source": [
        "# converting string into datetime object.\n",
        "\n",
        "data['START_DATE'] = pd.to_datetime(data['START_DATE'])\n",
        "data['END_DATE'] = pd.to_datetime(data['END_DATE'])"
      ],
      "id": "055d6299",
      "execution_count": null,
      "outputs": []
    },
    {
      "cell_type": "code",
      "metadata": {
        "id": "52460e35"
      },
      "source": [
        "data.dtypes"
      ],
      "id": "52460e35",
      "execution_count": null,
      "outputs": []
    },
    {
      "cell_type": "markdown",
      "metadata": {
        "id": "3a26b1f0"
      },
      "source": [
        "# Feature Engineering"
      ],
      "id": "3a26b1f0"
    },
    {
      "cell_type": "code",
      "metadata": {
        "id": "b101157e"
      },
      "source": [
        "ts = data['START_DATE'][0]\n",
        "ts"
      ],
      "id": "b101157e",
      "execution_count": null,
      "outputs": []
    },
    {
      "cell_type": "code",
      "metadata": {
        "id": "7d0c4453"
      },
      "source": [
        "ts.dayofweek"
      ],
      "id": "7d0c4453",
      "execution_count": null,
      "outputs": []
    },
    {
      "cell_type": "code",
      "metadata": {
        "id": "4b4db518"
      },
      "source": [
        "ts.month"
      ],
      "id": "4b4db518",
      "execution_count": null,
      "outputs": []
    },
    {
      "cell_type": "code",
      "metadata": {
        "id": "OYbHF0Mns6f4"
      },
      "source": [
        "ts.day"
      ],
      "id": "OYbHF0Mns6f4",
      "execution_count": null,
      "outputs": []
    },
    {
      "cell_type": "code",
      "metadata": {
        "id": "pHE2fwX1s6aY"
      },
      "source": [
        "ts.year"
      ],
      "id": "pHE2fwX1s6aY",
      "execution_count": null,
      "outputs": []
    },
    {
      "cell_type": "code",
      "metadata": {
        "id": "mwgqIIl1s6Vx"
      },
      "source": [
        "# dt is the way to show year is related to datetime. \n",
        "data['START_DATE'].dt.year"
      ],
      "id": "mwgqIIl1s6Vx",
      "execution_count": null,
      "outputs": []
    },
    {
      "cell_type": "code",
      "metadata": {
        "id": "e6e17f73"
      },
      "source": [],
      "id": "e6e17f73",
      "execution_count": null,
      "outputs": []
    },
    {
      "cell_type": "code",
      "metadata": {
        "id": "21410358"
      },
      "source": [
        "# Creating New features/Columns\n",
        "\n",
        "data['HOUR'] = data['START_DATE'].dt.hour\n",
        "data['DAY'] = data['START_DATE'].dt.day\n",
        "data['MONTH'] = data['START_DATE'].dt.month\n",
        "data['DAYOFWEEK'] = data['START_DATE'].dt.dayofweek\n",
        "data['DAYNAME'] = data['START_DATE'].dt.day_name()"
      ],
      "id": "21410358",
      "execution_count": null,
      "outputs": []
    },
    {
      "cell_type": "code",
      "metadata": {
        "id": "114e18bd"
      },
      "source": [
        "data.head()"
      ],
      "id": "114e18bd",
      "execution_count": null,
      "outputs": []
    },
    {
      "cell_type": "code",
      "metadata": {
        "id": "25f3734c"
      },
      "source": [
        "data.shape"
      ],
      "id": "25f3734c",
      "execution_count": null,
      "outputs": []
    },
    {
      "cell_type": "markdown",
      "metadata": {
        "id": "32146073"
      },
      "source": [
        "# Exploratory Data Analysis"
      ],
      "id": "32146073"
    },
    {
      "cell_type": "code",
      "metadata": {
        "id": "4bc21412"
      },
      "source": [
        "data['CATEGORY'].value_counts()"
      ],
      "id": "4bc21412",
      "execution_count": null,
      "outputs": []
    },
    {
      "cell_type": "code",
      "metadata": {
        "id": "b1f3ac80",
        "colab": {
          "base_uri": "https://localhost:8080/",
          "height": 502
        },
        "outputId": "97c06b9b-a328-4dd3-cfb3-a3f6a2a53d8b"
      },
      "source": [
        "sns.countplot(x=data['CATEGORY'])"
      ],
      "id": "b1f3ac80",
      "execution_count": 6,
      "outputs": [
        {
          "output_type": "error",
          "ename": "KeyError",
          "evalue": "ignored",
          "traceback": [
            "\u001b[0;31m---------------------------------------------------------------------------\u001b[0m",
            "\u001b[0;31mKeyError\u001b[0m                                  Traceback (most recent call last)",
            "\u001b[0;32m/usr/local/lib/python3.10/dist-packages/pandas/core/indexes/base.py\u001b[0m in \u001b[0;36mget_loc\u001b[0;34m(self, key, method, tolerance)\u001b[0m\n\u001b[1;32m   3801\u001b[0m             \u001b[0;32mtry\u001b[0m\u001b[0;34m:\u001b[0m\u001b[0;34m\u001b[0m\u001b[0;34m\u001b[0m\u001b[0m\n\u001b[0;32m-> 3802\u001b[0;31m                 \u001b[0;32mreturn\u001b[0m \u001b[0mself\u001b[0m\u001b[0;34m.\u001b[0m\u001b[0m_engine\u001b[0m\u001b[0;34m.\u001b[0m\u001b[0mget_loc\u001b[0m\u001b[0;34m(\u001b[0m\u001b[0mcasted_key\u001b[0m\u001b[0;34m)\u001b[0m\u001b[0;34m\u001b[0m\u001b[0;34m\u001b[0m\u001b[0m\n\u001b[0m\u001b[1;32m   3803\u001b[0m             \u001b[0;32mexcept\u001b[0m \u001b[0mKeyError\u001b[0m \u001b[0;32mas\u001b[0m \u001b[0merr\u001b[0m\u001b[0;34m:\u001b[0m\u001b[0;34m\u001b[0m\u001b[0;34m\u001b[0m\u001b[0m\n",
            "\u001b[0;32m/usr/local/lib/python3.10/dist-packages/pandas/_libs/index.pyx\u001b[0m in \u001b[0;36mpandas._libs.index.IndexEngine.get_loc\u001b[0;34m()\u001b[0m\n",
            "\u001b[0;32m/usr/local/lib/python3.10/dist-packages/pandas/_libs/index.pyx\u001b[0m in \u001b[0;36mpandas._libs.index.IndexEngine.get_loc\u001b[0;34m()\u001b[0m\n",
            "\u001b[0;32mpandas/_libs/hashtable_class_helper.pxi\u001b[0m in \u001b[0;36mpandas._libs.hashtable.PyObjectHashTable.get_item\u001b[0;34m()\u001b[0m\n",
            "\u001b[0;32mpandas/_libs/hashtable_class_helper.pxi\u001b[0m in \u001b[0;36mpandas._libs.hashtable.PyObjectHashTable.get_item\u001b[0;34m()\u001b[0m\n",
            "\u001b[0;31mKeyError\u001b[0m: 'CATEGORY'",
            "\nThe above exception was the direct cause of the following exception:\n",
            "\u001b[0;31mKeyError\u001b[0m                                  Traceback (most recent call last)",
            "\u001b[0;32m<ipython-input-6-6ea4beee14f5>\u001b[0m in \u001b[0;36m<cell line: 1>\u001b[0;34m()\u001b[0m\n\u001b[0;32m----> 1\u001b[0;31m \u001b[0msns\u001b[0m\u001b[0;34m.\u001b[0m\u001b[0mcountplot\u001b[0m\u001b[0;34m(\u001b[0m\u001b[0mx\u001b[0m\u001b[0;34m=\u001b[0m\u001b[0mdata\u001b[0m\u001b[0;34m[\u001b[0m\u001b[0;34m'CATEGORY'\u001b[0m\u001b[0;34m]\u001b[0m\u001b[0;34m)\u001b[0m\u001b[0;34m\u001b[0m\u001b[0;34m\u001b[0m\u001b[0m\n\u001b[0m",
            "\u001b[0;32m/usr/local/lib/python3.10/dist-packages/pandas/core/frame.py\u001b[0m in \u001b[0;36m__getitem__\u001b[0;34m(self, key)\u001b[0m\n\u001b[1;32m   3805\u001b[0m             \u001b[0;32mif\u001b[0m \u001b[0mself\u001b[0m\u001b[0;34m.\u001b[0m\u001b[0mcolumns\u001b[0m\u001b[0;34m.\u001b[0m\u001b[0mnlevels\u001b[0m \u001b[0;34m>\u001b[0m \u001b[0;36m1\u001b[0m\u001b[0;34m:\u001b[0m\u001b[0;34m\u001b[0m\u001b[0;34m\u001b[0m\u001b[0m\n\u001b[1;32m   3806\u001b[0m                 \u001b[0;32mreturn\u001b[0m \u001b[0mself\u001b[0m\u001b[0;34m.\u001b[0m\u001b[0m_getitem_multilevel\u001b[0m\u001b[0;34m(\u001b[0m\u001b[0mkey\u001b[0m\u001b[0;34m)\u001b[0m\u001b[0;34m\u001b[0m\u001b[0;34m\u001b[0m\u001b[0m\n\u001b[0;32m-> 3807\u001b[0;31m             \u001b[0mindexer\u001b[0m \u001b[0;34m=\u001b[0m \u001b[0mself\u001b[0m\u001b[0;34m.\u001b[0m\u001b[0mcolumns\u001b[0m\u001b[0;34m.\u001b[0m\u001b[0mget_loc\u001b[0m\u001b[0;34m(\u001b[0m\u001b[0mkey\u001b[0m\u001b[0;34m)\u001b[0m\u001b[0;34m\u001b[0m\u001b[0;34m\u001b[0m\u001b[0m\n\u001b[0m\u001b[1;32m   3808\u001b[0m             \u001b[0;32mif\u001b[0m \u001b[0mis_integer\u001b[0m\u001b[0;34m(\u001b[0m\u001b[0mindexer\u001b[0m\u001b[0;34m)\u001b[0m\u001b[0;34m:\u001b[0m\u001b[0;34m\u001b[0m\u001b[0;34m\u001b[0m\u001b[0m\n\u001b[1;32m   3809\u001b[0m                 \u001b[0mindexer\u001b[0m \u001b[0;34m=\u001b[0m \u001b[0;34m[\u001b[0m\u001b[0mindexer\u001b[0m\u001b[0;34m]\u001b[0m\u001b[0;34m\u001b[0m\u001b[0;34m\u001b[0m\u001b[0m\n",
            "\u001b[0;32m/usr/local/lib/python3.10/dist-packages/pandas/core/indexes/base.py\u001b[0m in \u001b[0;36mget_loc\u001b[0;34m(self, key, method, tolerance)\u001b[0m\n\u001b[1;32m   3802\u001b[0m                 \u001b[0;32mreturn\u001b[0m \u001b[0mself\u001b[0m\u001b[0;34m.\u001b[0m\u001b[0m_engine\u001b[0m\u001b[0;34m.\u001b[0m\u001b[0mget_loc\u001b[0m\u001b[0;34m(\u001b[0m\u001b[0mcasted_key\u001b[0m\u001b[0;34m)\u001b[0m\u001b[0;34m\u001b[0m\u001b[0;34m\u001b[0m\u001b[0m\n\u001b[1;32m   3803\u001b[0m             \u001b[0;32mexcept\u001b[0m \u001b[0mKeyError\u001b[0m \u001b[0;32mas\u001b[0m \u001b[0merr\u001b[0m\u001b[0;34m:\u001b[0m\u001b[0;34m\u001b[0m\u001b[0;34m\u001b[0m\u001b[0m\n\u001b[0;32m-> 3804\u001b[0;31m                 \u001b[0;32mraise\u001b[0m \u001b[0mKeyError\u001b[0m\u001b[0;34m(\u001b[0m\u001b[0mkey\u001b[0m\u001b[0;34m)\u001b[0m \u001b[0;32mfrom\u001b[0m \u001b[0merr\u001b[0m\u001b[0;34m\u001b[0m\u001b[0;34m\u001b[0m\u001b[0m\n\u001b[0m\u001b[1;32m   3805\u001b[0m             \u001b[0;32mexcept\u001b[0m \u001b[0mTypeError\u001b[0m\u001b[0;34m:\u001b[0m\u001b[0;34m\u001b[0m\u001b[0;34m\u001b[0m\u001b[0m\n\u001b[1;32m   3806\u001b[0m                 \u001b[0;31m# If we have a listlike key, _check_indexing_error will raise\u001b[0m\u001b[0;34m\u001b[0m\u001b[0;34m\u001b[0m\u001b[0m\n",
            "\u001b[0;31mKeyError\u001b[0m: 'CATEGORY'"
          ]
        }
      ]
    },
    {
      "cell_type": "code",
      "metadata": {
        "id": "62830928"
      },
      "source": [],
      "id": "62830928",
      "execution_count": null,
      "outputs": []
    },
    {
      "cell_type": "markdown",
      "metadata": {
        "id": "b45cc732"
      },
      "source": [
        "### How long (miles) do people travel in Uber?"
      ],
      "id": "b45cc732"
    },
    {
      "cell_type": "code",
      "metadata": {
        "id": "fa3a9b5a"
      },
      "source": [
        "data['MILES']"
      ],
      "id": "fa3a9b5a",
      "execution_count": null,
      "outputs": []
    },
    {
      "cell_type": "code",
      "metadata": {
        "id": "aec72690"
      },
      "source": [
        "plt.figure(figsize=(15,10))\n",
        "plt.hist(data['MILES'], bins=100)\n",
        "plt.xlabel(\"Distance (in miles)\")\n",
        "plt.ylabel(\"Frequency of passanger\")\n",
        "plt.show()"
      ],
      "id": "aec72690",
      "execution_count": null,
      "outputs": []
    },
    {
      "cell_type": "markdown",
      "metadata": {
        "id": "9db23af7"
      },
      "source": [
        "**Observation:**\n",
        "1. People often use Uber for short rides."
      ],
      "id": "9db23af7"
    },
    {
      "cell_type": "code",
      "metadata": {
        "id": "0ac887ab"
      },
      "source": [],
      "id": "0ac887ab",
      "execution_count": null,
      "outputs": []
    },
    {
      "cell_type": "markdown",
      "metadata": {
        "id": "a2164591"
      },
      "source": [
        "## What hour do most people take uber?"
      ],
      "id": "a2164591"
    },
    {
      "cell_type": "code",
      "metadata": {
        "id": "93c1432c"
      },
      "source": [
        "data['HOUR']"
      ],
      "id": "93c1432c",
      "execution_count": null,
      "outputs": []
    },
    {
      "cell_type": "code",
      "metadata": {
        "id": "b2923f57"
      },
      "source": [
        "data['HOUR'].value_counts()"
      ],
      "id": "b2923f57",
      "execution_count": null,
      "outputs": []
    },
    {
      "cell_type": "code",
      "metadata": {
        "id": "33447d62"
      },
      "source": [
        "sns.countplot(data['HOUR'])"
      ],
      "id": "33447d62",
      "execution_count": null,
      "outputs": []
    },
    {
      "cell_type": "code",
      "metadata": {
        "id": "6a8f34a2"
      },
      "source": [],
      "id": "6a8f34a2",
      "execution_count": null,
      "outputs": []
    },
    {
      "cell_type": "markdown",
      "metadata": {
        "id": "54f0c6d6"
      },
      "source": [
        "### Purpose of the Trip"
      ],
      "id": "54f0c6d6"
    },
    {
      "cell_type": "code",
      "metadata": {
        "id": "44afb9e1"
      },
      "source": [
        "data['PURPOSE'].value_counts()"
      ],
      "id": "44afb9e1",
      "execution_count": null,
      "outputs": []
    },
    {
      "cell_type": "code",
      "metadata": {
        "id": "a5b4c1c3"
      },
      "source": [
        "plt.figure(figsize=(15,10))\n",
        "\n",
        "# data['PURPOSE'].value_counts().plot(kind='bar')\n",
        "sns.countplot(data['PURPOSE'])"
      ],
      "id": "a5b4c1c3",
      "execution_count": null,
      "outputs": []
    },
    {
      "cell_type": "code",
      "metadata": {
        "id": "edd9ee63"
      },
      "source": [],
      "id": "edd9ee63",
      "execution_count": null,
      "outputs": []
    },
    {
      "cell_type": "code",
      "metadata": {
        "id": "0d264a34"
      },
      "source": [],
      "id": "0d264a34",
      "execution_count": null,
      "outputs": []
    },
    {
      "cell_type": "code",
      "metadata": {
        "id": "fdbe40f7"
      },
      "source": [
        "data.head()"
      ],
      "id": "fdbe40f7",
      "execution_count": null,
      "outputs": []
    },
    {
      "cell_type": "code",
      "metadata": {
        "id": "93ea118e"
      },
      "source": [
        "plt.figure(figsize=(10,6))\n",
        "\n",
        "data['DAY'].value_counts().plot(kind='bar')"
      ],
      "id": "93ea118e",
      "execution_count": null,
      "outputs": []
    },
    {
      "cell_type": "code",
      "metadata": {
        "id": "9a7b3e4f"
      },
      "source": [],
      "id": "9a7b3e4f",
      "execution_count": null,
      "outputs": []
    },
    {
      "cell_type": "markdown",
      "metadata": {
        "id": "3f0108ac"
      },
      "source": [
        "### MONTH"
      ],
      "id": "3f0108ac"
    },
    {
      "cell_type": "code",
      "metadata": {
        "scrolled": false,
        "id": "13102e63"
      },
      "source": [
        "plt.figure(figsize=(10,6))\n",
        "\n",
        "# data['MONTH'].value_counts().plot(kind='bar')\n",
        "sns.countplot(data['MONTH'])"
      ],
      "id": "13102e63",
      "execution_count": null,
      "outputs": []
    },
    {
      "cell_type": "code",
      "metadata": {
        "id": "8764fc6c"
      },
      "source": [],
      "id": "8764fc6c",
      "execution_count": null,
      "outputs": []
    },
    {
      "cell_type": "code",
      "metadata": {
        "id": "b3df31d1"
      },
      "source": [
        "data.head()"
      ],
      "id": "b3df31d1",
      "execution_count": null,
      "outputs": []
    },
    {
      "cell_type": "code",
      "metadata": {
        "id": "da42a3e0"
      },
      "source": [
        "def convertMinutes(time):\n",
        "    return time.seconds/60"
      ],
      "id": "da42a3e0",
      "execution_count": null,
      "outputs": []
    },
    {
      "cell_type": "code",
      "metadata": {
        "id": "18e391ba"
      },
      "source": [],
      "id": "18e391ba",
      "execution_count": null,
      "outputs": []
    },
    {
      "cell_type": "code",
      "metadata": {
        "id": "59483f0f"
      },
      "source": [
        "(data['END_DATE'] - data['START_DATE']).apply(convertMinutes)"
      ],
      "id": "59483f0f",
      "execution_count": null,
      "outputs": []
    },
    {
      "cell_type": "code",
      "metadata": {
        "id": "1e723702"
      },
      "source": [
        "data['DURATION_MIN'] = (data['END_DATE'] - data['START_DATE']).apply(convertMinutes)"
      ],
      "id": "1e723702",
      "execution_count": null,
      "outputs": []
    },
    {
      "cell_type": "code",
      "metadata": {
        "id": "f98dca67"
      },
      "source": [
        "data.head()"
      ],
      "id": "f98dca67",
      "execution_count": null,
      "outputs": []
    },
    {
      "cell_type": "code",
      "metadata": {
        "scrolled": true,
        "id": "f3da27d2"
      },
      "source": [
        "data['DURATION_MIN'].value_counts()"
      ],
      "id": "f3da27d2",
      "execution_count": null,
      "outputs": []
    },
    {
      "cell_type": "code",
      "metadata": {
        "id": "f7a267da"
      },
      "source": [],
      "id": "f7a267da",
      "execution_count": null,
      "outputs": []
    },
    {
      "cell_type": "code",
      "metadata": {
        "id": "b2fb9edf"
      },
      "source": [
        "plt.figure(figsize=(10,6))\n",
        "sns.distplot(data['DURATION_MIN'], bins=150, kde=True)"
      ],
      "id": "b2fb9edf",
      "execution_count": null,
      "outputs": []
    },
    {
      "cell_type": "code",
      "metadata": {
        "id": "22166208"
      },
      "source": [],
      "id": "22166208",
      "execution_count": null,
      "outputs": []
    },
    {
      "cell_type": "markdown",
      "metadata": {
        "id": "ef89a3ba"
      },
      "source": [
        "# SPEED"
      ],
      "id": "ef89a3ba"
    },
    {
      "cell_type": "code",
      "metadata": {
        "id": "307eb734"
      },
      "source": [
        "data.head()"
      ],
      "id": "307eb734",
      "execution_count": null,
      "outputs": []
    },
    {
      "cell_type": "code",
      "metadata": {
        "id": "431343ff"
      },
      "source": [],
      "id": "431343ff",
      "execution_count": null,
      "outputs": []
    },
    {
      "cell_type": "code",
      "metadata": {
        "id": "51d3863b"
      },
      "source": [
        "data['SPEED_KMPH'] = (data['MILES']*1.609) / (data['DURATION_MIN']/60)"
      ],
      "id": "51d3863b",
      "execution_count": null,
      "outputs": []
    },
    {
      "cell_type": "code",
      "metadata": {
        "id": "00fd721a"
      },
      "source": [
        "data.head()"
      ],
      "id": "00fd721a",
      "execution_count": null,
      "outputs": []
    },
    {
      "cell_type": "code",
      "source": [
        "data['SPEED_KMPH'].mean()"
      ],
      "metadata": {
        "id": "U7j1qMLXbYJO"
      },
      "id": "U7j1qMLXbYJO",
      "execution_count": null,
      "outputs": []
    },
    {
      "cell_type": "code",
      "metadata": {
        "id": "49dc409d"
      },
      "source": [
        "data[ data['SPEED_KMPH']>10000 ]"
      ],
      "id": "49dc409d",
      "execution_count": null,
      "outputs": []
    },
    {
      "cell_type": "code",
      "metadata": {
        "id": "1e2456d8"
      },
      "source": [
        "data[ data['SPEED_KMPH']<10000 ]['SPEED_KMPH'].mean()"
      ],
      "id": "1e2456d8",
      "execution_count": null,
      "outputs": []
    },
    {
      "cell_type": "code",
      "metadata": {
        "id": "2896e7fa"
      },
      "source": [],
      "id": "2896e7fa",
      "execution_count": null,
      "outputs": []
    },
    {
      "cell_type": "code",
      "metadata": {
        "id": "e192c493"
      },
      "source": [
        "plt.figure(figsize=(10,6))\n",
        "sns.histplot(data['SPEED_KMPH'])"
      ],
      "id": "e192c493",
      "execution_count": null,
      "outputs": []
    },
    {
      "cell_type": "code",
      "metadata": {
        "id": "5DKFY0MvKy_l"
      },
      "source": [],
      "id": "5DKFY0MvKy_l",
      "execution_count": null,
      "outputs": []
    },
    {
      "cell_type": "code",
      "metadata": {
        "id": "JhGJq0O-Ky9f"
      },
      "source": [
        "data.head()"
      ],
      "id": "JhGJq0O-Ky9f",
      "execution_count": null,
      "outputs": []
    },
    {
      "cell_type": "code",
      "metadata": {
        "id": "b3765a37"
      },
      "source": [
        "data.to_csv('cleaned_data.csv', index=False)"
      ],
      "id": "b3765a37",
      "execution_count": null,
      "outputs": []
    },
    {
      "cell_type": "code",
      "metadata": {
        "id": "ddbac9c4"
      },
      "source": [],
      "id": "ddbac9c4",
      "execution_count": null,
      "outputs": []
    },
    {
      "cell_type": "code",
      "metadata": {
        "id": "BDmsmA6TOtWJ"
      },
      "source": [],
      "id": "BDmsmA6TOtWJ",
      "execution_count": null,
      "outputs": []
    },
    {
      "cell_type": "code",
      "metadata": {
        "id": "GlmTrB9IOtTm"
      },
      "source": [],
      "id": "GlmTrB9IOtTm",
      "execution_count": null,
      "outputs": []
    },
    {
      "cell_type": "code",
      "metadata": {
        "id": "3C9f6ls1OtRT"
      },
      "source": [],
      "id": "3C9f6ls1OtRT",
      "execution_count": null,
      "outputs": []
    },
    {
      "cell_type": "code",
      "metadata": {
        "id": "SZceT3QVOs7a"
      },
      "source": [],
      "id": "SZceT3QVOs7a",
      "execution_count": null,
      "outputs": []
    },
    {
      "cell_type": "code",
      "metadata": {
        "id": "2a1LQIG1Os43"
      },
      "source": [],
      "id": "2a1LQIG1Os43",
      "execution_count": null,
      "outputs": []
    }
  ]
}